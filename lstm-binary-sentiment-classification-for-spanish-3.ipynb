{
 "cells": [
  {
   "cell_type": "code",
   "execution_count": 1,
   "id": "8edcae88",
   "metadata": {
    "_cell_guid": "b1076dfc-b9ad-4769-8c92-a6c4dae69d19",
    "_kg_hide-input": true,
    "_uuid": "8f2839f25d086af736a60e9eeb907d3b93b6e0e5",
    "execution": {
     "iopub.execute_input": "2021-12-11T18:39:16.739374Z",
     "iopub.status.busy": "2021-12-11T18:39:16.730363Z",
     "iopub.status.idle": "2021-12-11T18:39:23.794993Z",
     "shell.execute_reply": "2021-12-11T18:39:23.794289Z",
     "shell.execute_reply.started": "2021-12-11T14:12:54.534346Z"
    },
    "papermill": {
     "duration": 7.124419,
     "end_time": "2021-12-11T18:39:23.795172",
     "exception": false,
     "start_time": "2021-12-11T18:39:16.670753",
     "status": "completed"
    },
    "tags": []
   },
   "outputs": [],
   "source": [
    "import numpy as np\n",
    "import pandas as pd \n",
    "import os\n",
    "from matplotlib import pyplot as plt \n",
    "import seaborn as sns\n",
    "import nltk\n",
    "import re\n",
    "from sklearn.metrics import classification_report, accuracy_score\n",
    "import tensorflow as tf\n",
    "from tensorflow.keras import Sequential, layers, preprocessing\n",
    "import warnings\n",
    "warnings.filterwarnings('ignore')\n"
   ]
  },
  {
   "cell_type": "code",
   "execution_count": 2,
   "id": "100bb06f",
   "metadata": {
    "execution": {
     "iopub.execute_input": "2021-12-11T18:39:23.883894Z",
     "iopub.status.busy": "2021-12-11T18:39:23.883233Z",
     "iopub.status.idle": "2021-12-11T18:39:24.182684Z",
     "shell.execute_reply": "2021-12-11T18:39:24.183181Z",
     "shell.execute_reply.started": "2021-12-11T14:13:00.943385Z"
    },
    "papermill": {
     "duration": 0.325366,
     "end_time": "2021-12-11T18:39:24.183394",
     "exception": false,
     "start_time": "2021-12-11T18:39:23.858028",
     "status": "completed"
    },
    "tags": []
   },
   "outputs": [
    {
     "data": {
      "text/html": [
       "<div>\n",
       "<style scoped>\n",
       "    .dataframe tbody tr th:only-of-type {\n",
       "        vertical-align: middle;\n",
       "    }\n",
       "\n",
       "    .dataframe tbody tr th {\n",
       "        vertical-align: top;\n",
       "    }\n",
       "\n",
       "    .dataframe thead th {\n",
       "        text-align: right;\n",
       "    }\n",
       "</style>\n",
       "<table border=\"1\" class=\"dataframe\">\n",
       "  <thead>\n",
       "    <tr style=\"text-align: right;\">\n",
       "      <th></th>\n",
       "      <th>title</th>\n",
       "      <th>rating</th>\n",
       "      <th>review_text</th>\n",
       "      <th>location</th>\n",
       "      <th>hotel</th>\n",
       "      <th>label</th>\n",
       "    </tr>\n",
       "  </thead>\n",
       "  <tbody>\n",
       "    <tr>\n",
       "      <th>0</th>\n",
       "      <td>Excelente y personal amable</td>\n",
       "      <td>5</td>\n",
       "      <td>Un hotel muy bueno.  El personal fue muy amabl...</td>\n",
       "      <td>Seville_Province_of_Seville_Andalucia</td>\n",
       "      <td>H10_Casa_de_la_Plata</td>\n",
       "      <td>1</td>\n",
       "    </tr>\n",
       "    <tr>\n",
       "      <th>1</th>\n",
       "      <td>Céntrico</td>\n",
       "      <td>4</td>\n",
       "      <td>Muy buen hotel al nivel de lo esperado, habita...</td>\n",
       "      <td>Seville_Province_of_Seville_Andalucia</td>\n",
       "      <td>H10_Casa_de_la_Plata</td>\n",
       "      <td>1</td>\n",
       "    </tr>\n",
       "    <tr>\n",
       "      <th>2</th>\n",
       "      <td>Hotel excepcional</td>\n",
       "      <td>5</td>\n",
       "      <td>Magnífico hotel. La verdad es que todo perfect...</td>\n",
       "      <td>Seville_Province_of_Seville_Andalucia</td>\n",
       "      <td>H10_Casa_de_la_Plata</td>\n",
       "      <td>1</td>\n",
       "    </tr>\n",
       "    <tr>\n",
       "      <th>3</th>\n",
       "      <td>WOW!!</td>\n",
       "      <td>5</td>\n",
       "      <td>Hotel hermoso, buen diseño, original, limpio. ...</td>\n",
       "      <td>Seville_Province_of_Seville_Andalucia</td>\n",
       "      <td>H10_Casa_de_la_Plata</td>\n",
       "      <td>1</td>\n",
       "    </tr>\n",
       "    <tr>\n",
       "      <th>4</th>\n",
       "      <td>Magnifico</td>\n",
       "      <td>5</td>\n",
       "      <td>Magnífica ubicación en pleno centro de Sevilla...</td>\n",
       "      <td>Seville_Province_of_Seville_Andalucia</td>\n",
       "      <td>H10_Casa_de_la_Plata</td>\n",
       "      <td>1</td>\n",
       "    </tr>\n",
       "  </tbody>\n",
       "</table>\n",
       "</div>"
      ],
      "text/plain": [
       "                         title  rating  \\\n",
       "0  Excelente y personal amable       5   \n",
       "1                     Céntrico       4   \n",
       "2            Hotel excepcional       5   \n",
       "3                        WOW!!       5   \n",
       "4                    Magnifico       5   \n",
       "\n",
       "                                         review_text  \\\n",
       "0  Un hotel muy bueno.  El personal fue muy amabl...   \n",
       "1  Muy buen hotel al nivel de lo esperado, habita...   \n",
       "2  Magnífico hotel. La verdad es que todo perfect...   \n",
       "3  Hotel hermoso, buen diseño, original, limpio. ...   \n",
       "4  Magnífica ubicación en pleno centro de Sevilla...   \n",
       "\n",
       "                                location                 hotel  label  \n",
       "0  Seville_Province_of_Seville_Andalucia  H10_Casa_de_la_Plata      1  \n",
       "1  Seville_Province_of_Seville_Andalucia  H10_Casa_de_la_Plata      1  \n",
       "2  Seville_Province_of_Seville_Andalucia  H10_Casa_de_la_Plata      1  \n",
       "3  Seville_Province_of_Seville_Andalucia  H10_Casa_de_la_Plata      1  \n",
       "4  Seville_Province_of_Seville_Andalucia  H10_Casa_de_la_Plata      1  "
      ]
     },
     "execution_count": 2,
     "metadata": {},
     "output_type": "execute_result"
    }
   ],
   "source": [
    "df = pd.read_csv('Big_AHR.csv', index_col=0)\n",
    "df = df[df.label != 3] \n",
    "df.head()"
   ]
  },
  {
   "cell_type": "code",
   "execution_count": 3,
   "id": "be33a839",
   "metadata": {
    "_kg_hide-input": true,
    "execution": {
     "iopub.execute_input": "2021-12-11T18:39:24.239169Z",
     "iopub.status.busy": "2021-12-11T18:39:24.237039Z",
     "iopub.status.idle": "2021-12-11T18:39:24.239870Z",
     "shell.execute_reply": "2021-12-11T18:39:24.240396Z",
     "shell.execute_reply.started": "2021-12-11T14:13:01.255673Z"
    },
    "papermill": {
     "duration": 0.034001,
     "end_time": "2021-12-11T18:39:24.240538",
     "exception": false,
     "start_time": "2021-12-11T18:39:24.206537",
     "status": "completed"
    },
    "tags": []
   },
   "outputs": [],
   "source": [
    "# some useful functions to eliminate the noise from texts and measure sequence length\n",
    "def clean_text(text):\n",
    "    return re.sub('[^A-Za-z0-9áéíóú]', ' ', text.lower())\n",
    "\n",
    "\n",
    "def seq_len(text):\n",
    "    return len(text.split(' '))"
   ]
  },
  {
   "cell_type": "code",
   "execution_count": 4,
   "id": "28259aa3",
   "metadata": {
    "execution": {
     "iopub.execute_input": "2021-12-11T18:39:24.332165Z",
     "iopub.status.busy": "2021-12-11T18:39:24.311135Z",
     "iopub.status.idle": "2021-12-11T18:39:25.054125Z",
     "shell.execute_reply": "2021-12-11T18:39:25.054621Z",
     "shell.execute_reply.started": "2021-12-11T14:13:01.262626Z"
    },
    "papermill": {
     "duration": 0.791236,
     "end_time": "2021-12-11T18:39:25.054860",
     "exception": false,
     "start_time": "2021-12-11T18:39:24.263624",
     "status": "completed"
    },
    "tags": []
   },
   "outputs": [
    {
     "data": {
      "text/html": [
       "<div>\n",
       "<style scoped>\n",
       "    .dataframe tbody tr th:only-of-type {\n",
       "        vertical-align: middle;\n",
       "    }\n",
       "\n",
       "    .dataframe tbody tr th {\n",
       "        vertical-align: top;\n",
       "    }\n",
       "\n",
       "    .dataframe thead th {\n",
       "        text-align: right;\n",
       "    }\n",
       "</style>\n",
       "<table border=\"1\" class=\"dataframe\">\n",
       "  <thead>\n",
       "    <tr style=\"text-align: right;\">\n",
       "      <th></th>\n",
       "      <th>title</th>\n",
       "      <th>rating</th>\n",
       "      <th>review_text</th>\n",
       "      <th>location</th>\n",
       "      <th>hotel</th>\n",
       "      <th>label</th>\n",
       "      <th>len</th>\n",
       "    </tr>\n",
       "  </thead>\n",
       "  <tbody>\n",
       "    <tr>\n",
       "      <th>0</th>\n",
       "      <td>Excelente y personal amable</td>\n",
       "      <td>5</td>\n",
       "      <td>un hotel muy bueno   el personal fue muy amabl...</td>\n",
       "      <td>Seville_Province_of_Seville_Andalucia</td>\n",
       "      <td>H10_Casa_de_la_Plata</td>\n",
       "      <td>1</td>\n",
       "      <td>53</td>\n",
       "    </tr>\n",
       "    <tr>\n",
       "      <th>1</th>\n",
       "      <td>Céntrico</td>\n",
       "      <td>4</td>\n",
       "      <td>muy buen hotel al nivel de lo esperado  habita...</td>\n",
       "      <td>Seville_Province_of_Seville_Andalucia</td>\n",
       "      <td>H10_Casa_de_la_Plata</td>\n",
       "      <td>1</td>\n",
       "      <td>47</td>\n",
       "    </tr>\n",
       "    <tr>\n",
       "      <th>2</th>\n",
       "      <td>Hotel excepcional</td>\n",
       "      <td>5</td>\n",
       "      <td>magnífico hotel  la verdad es que todo perfect...</td>\n",
       "      <td>Seville_Province_of_Seville_Andalucia</td>\n",
       "      <td>H10_Casa_de_la_Plata</td>\n",
       "      <td>1</td>\n",
       "      <td>46</td>\n",
       "    </tr>\n",
       "    <tr>\n",
       "      <th>3</th>\n",
       "      <td>WOW!!</td>\n",
       "      <td>5</td>\n",
       "      <td>hotel hermoso  buen dise o  original  limpio  ...</td>\n",
       "      <td>Seville_Province_of_Seville_Andalucia</td>\n",
       "      <td>H10_Casa_de_la_Plata</td>\n",
       "      <td>1</td>\n",
       "      <td>41</td>\n",
       "    </tr>\n",
       "    <tr>\n",
       "      <th>4</th>\n",
       "      <td>Magnifico</td>\n",
       "      <td>5</td>\n",
       "      <td>magnífica ubicación en pleno centro de sevilla...</td>\n",
       "      <td>Seville_Province_of_Seville_Andalucia</td>\n",
       "      <td>H10_Casa_de_la_Plata</td>\n",
       "      <td>1</td>\n",
       "      <td>45</td>\n",
       "    </tr>\n",
       "  </tbody>\n",
       "</table>\n",
       "</div>"
      ],
      "text/plain": [
       "                         title  rating  \\\n",
       "0  Excelente y personal amable       5   \n",
       "1                     Céntrico       4   \n",
       "2            Hotel excepcional       5   \n",
       "3                        WOW!!       5   \n",
       "4                    Magnifico       5   \n",
       "\n",
       "                                         review_text  \\\n",
       "0  un hotel muy bueno   el personal fue muy amabl...   \n",
       "1  muy buen hotel al nivel de lo esperado  habita...   \n",
       "2  magnífico hotel  la verdad es que todo perfect...   \n",
       "3  hotel hermoso  buen dise o  original  limpio  ...   \n",
       "4  magnífica ubicación en pleno centro de sevilla...   \n",
       "\n",
       "                                location                 hotel  label  len  \n",
       "0  Seville_Province_of_Seville_Andalucia  H10_Casa_de_la_Plata      1   53  \n",
       "1  Seville_Province_of_Seville_Andalucia  H10_Casa_de_la_Plata      1   47  \n",
       "2  Seville_Province_of_Seville_Andalucia  H10_Casa_de_la_Plata      1   46  \n",
       "3  Seville_Province_of_Seville_Andalucia  H10_Casa_de_la_Plata      1   41  \n",
       "4  Seville_Province_of_Seville_Andalucia  H10_Casa_de_la_Plata      1   45  "
      ]
     },
     "execution_count": 4,
     "metadata": {},
     "output_type": "execute_result"
    }
   ],
   "source": [
    "df.review_text = df.review_text.apply(lambda x: clean_text(x))\n",
    "df['len'] = df.review_text.apply(lambda x: seq_len(x))\n",
    "df.head()"
   ]
  },
  {
   "cell_type": "code",
   "execution_count": 5,
   "id": "f3a7470e",
   "metadata": {
    "execution": {
     "iopub.execute_input": "2021-12-11T18:39:25.149265Z",
     "iopub.status.busy": "2021-12-11T18:39:25.148539Z",
     "iopub.status.idle": "2021-12-11T18:39:25.153784Z",
     "shell.execute_reply": "2021-12-11T18:39:25.154536Z",
     "shell.execute_reply.started": "2021-12-11T14:13:02.020192Z"
    },
    "papermill": {
     "duration": 0.035609,
     "end_time": "2021-12-11T18:39:25.154808",
     "exception": false,
     "start_time": "2021-12-11T18:39:25.119199",
     "status": "completed"
    },
    "tags": []
   },
   "outputs": [
    {
     "name": "stdout",
     "output_type": "stream",
     "text": [
      "Maximum sequence length is 1134\n",
      "Minimum sequence length is 11\n",
      "Average sequence length is 90.79852811674425\n"
     ]
    }
   ],
   "source": [
    "print('Maximum sequence length is', df.len.max())\n",
    "print('Minimum sequence length is', df.len.min())\n",
    "print('Average sequence length is', df.len.mean())"
   ]
  },
  {
   "cell_type": "code",
   "execution_count": 6,
   "id": "f2664395",
   "metadata": {
    "execution": {
     "iopub.execute_input": "2021-12-11T18:39:25.260760Z",
     "iopub.status.busy": "2021-12-11T18:39:25.258509Z",
     "iopub.status.idle": "2021-12-11T18:39:25.265448Z",
     "shell.execute_reply": "2021-12-11T18:39:25.265910Z",
     "shell.execute_reply.started": "2021-12-11T14:13:02.029816Z"
    },
    "papermill": {
     "duration": 0.039944,
     "end_time": "2021-12-11T18:39:25.266074",
     "exception": false,
     "start_time": "2021-12-11T18:39:25.226130",
     "status": "completed"
    },
    "tags": []
   },
   "outputs": [
    {
     "name": "stdout",
     "output_type": "stream",
     "text": [
      "Train set contains 12718 entries\n",
      "Test set contains 3180 entries\n"
     ]
    }
   ],
   "source": [
    "from sklearn.model_selection import train_test_split\n",
    "X = np.array(df['review_text'])\n",
    "y = np.array(df['label'])\n",
    "X_train, X_test, y_train, y_test = train_test_split(X, y, test_size=0.2, random_state=327)\n",
    "\n",
    "print('Train set contains {} entries'.format(len(X_train)))\n",
    "print(\"Test set contains {} entries\".format(len(y_test)))"
   ]
  },
  {
   "cell_type": "code",
   "execution_count": 7,
   "id": "3b2ec028",
   "metadata": {
    "collapsed": true,
    "execution": {
     "iopub.execute_input": "2021-12-11T18:39:25.365669Z",
     "iopub.status.busy": "2021-12-11T18:39:25.364599Z",
     "iopub.status.idle": "2021-12-11T18:39:25.693776Z",
     "shell.execute_reply": "2021-12-11T18:39:25.693054Z",
     "shell.execute_reply.started": "2021-12-11T14:57:10.070073Z"
    },
    "papermill": {
     "duration": 0.359754,
     "end_time": "2021-12-11T18:39:25.693935",
     "exception": false,
     "start_time": "2021-12-11T18:39:25.334181",
     "status": "completed"
    },
    "tags": []
   },
   "outputs": [
    {
     "data": {
      "image/png": "[encoded data removed]",
      "text/plain": [
       "<Figure size 1080x360 with 2 Axes>"
      ]
     },
     "metadata": {},
     "output_type": "display_data"
    }
   ],
   "source": [
    "sns.set_theme(style=\"darkgrid\")\n",
    "fig, (ax1, ax2) = plt.subplots(1, 2, figsize=(15, 5), sharey=True)\n",
    "fig.suptitle('Review per label distribution')\n",
    "ax1 = sns.countplot(x=y_train, ax=ax1)\n",
    "ax1.set_title('Train Set')\n",
    "ax2 = sns.countplot(x=y_test, ax=ax2)\n",
    "ax2.set_title('Test Set')\n",
    "plt.show()"
   ]
  },
  {
   "cell_type": "code",
   "execution_count": 8,
   "id": "2347fe96",
   "metadata": {
    "execution": {
     "iopub.execute_input": "2021-12-11T18:39:25.810765Z",
     "iopub.status.busy": "2021-12-11T18:39:25.800570Z",
     "iopub.status.idle": "2021-12-11T18:39:27.212494Z",
     "shell.execute_reply": "2021-12-11T18:39:27.213374Z",
     "shell.execute_reply.started": "2021-12-11T14:13:02.231175Z"
    },
    "papermill": {
     "duration": 1.445811,
     "end_time": "2021-12-11T18:39:27.213649",
     "exception": false,
     "start_time": "2021-12-11T18:39:25.767838",
     "status": "completed"
    },
    "tags": []
   },
   "outputs": [
    {
     "name": "stdout",
     "output_type": "stream",
     "text": [
      " 27660 unique tokens found\n",
      "['de', 'y', 'la', 'el', 'que', 'en', 'a', 'muy', 'un', 'con']\n"
     ]
    }
   ],
   "source": [
    "num_words = 28000 # the numer of words to tokenize \n",
    "max_seq = 300 # maximum sequence size\n",
    "\n",
    "# fit the tokenizer on trainig texts\n",
    "tokenizer = preprocessing.text.Tokenizer(num_words=num_words)\n",
    "tokenizer.fit_on_texts(X_train)\n",
    "\n",
    "# Dictionary of words ordered in terms of their frequency \n",
    "word_index = tokenizer.word_index\n",
    "vocab_size = len(word_index) + 1\n",
    "\n",
    "print(f\" {vocab_size-1} unique tokens found\")\n",
    "print(list(word_index)[:10])"
   ]
  },
  {
   "cell_type": "code",
   "execution_count": 9,
   "id": "de1349f3",
   "metadata": {
    "collapsed": true,
    "execution": {
     "iopub.execute_input": "2021-12-11T18:39:27.358917Z",
     "iopub.status.busy": "2021-12-11T18:39:27.327087Z",
     "iopub.status.idle": "2021-12-11T18:39:29.405525Z",
     "shell.execute_reply": "2021-12-11T18:39:29.404098Z",
     "shell.execute_reply.started": "2021-12-11T15:15:35.128168Z"
    },
    "papermill": {
     "duration": 2.114493,
     "end_time": "2021-12-11T18:39:29.405736",
     "exception": false,
     "start_time": "2021-12-11T18:39:27.291243",
     "status": "completed"
    },
    "tags": []
   },
   "outputs": [
    {
     "name": "stdout",
     "output_type": "stream",
     "text": [
      "Original phrase:\n",
      " estuvimos el pasado fin de semana  24 al 26 de agosto    todo fueron atenciones y buena disposición por parte de todo el personal de recepción para solucionar un problema que llevabamos  muy buenas y espaciosas las habitaciones  perfecta la situacion  tanto para la playa como para el casco antiguo  agradable todo el personal  en fin siempre que vuelva a cadiz  no dudaré en volverme a hospedar en este hotel  al mismo tiempo que lo recomendará a los amigos  gracias por todo \n",
      "\n",
      "Phrase as sequence: [148, 4, 283, 151, 1, 124, 965, 25, 3249, 1, 695, 23, 356, 1685, 2, 43, 1298, 17, 156, 1, 23, 4, 29, 1, 64, 14, 1958, 9, 232, 5, 7592, 8, 249, 2, 779, 15, 30, 174, 3, 1457, 133, 14, 3, 247, 33, 14, 4, 452, 317, 78, 23, 4, 29, 6, 151, 122, 5, 1189, 7, 3057, 12, 3941, 6, 12906, 7, 7593, 6, 36, 16, 25, 198, 223, 5, 18, 10403, 7, 20, 357, 121, 17, 23]\n",
      "\n",
      "Padded sequence: [  148     4   283   151     1   124   965    25  3249     1   695    23\n",
      "   356  1685     2    43  1298    17   156     1    23     4    29     1\n",
      "    64    14  1958     9   232     5  7592     8   249     2   779    15\n",
      "    30   174     3  1457   133    14     3   247    33    14     4   452\n",
      "   317    78    23     4    29     6   151   122     5  1189     7  3057\n",
      "    12  3941     6 12906     7  7593     6    36    16    25   198   223\n",
      "     5    18 10403     7    20   357   121    17    23     0     0     0\n",
      "     0     0     0     0     0     0     0     0     0     0     0     0\n",
      "     0     0     0     0     0     0     0     0     0     0     0     0\n",
      "     0     0     0     0     0     0     0     0     0     0     0     0\n",
      "     0     0     0     0     0     0     0     0     0     0     0     0\n",
      "     0     0     0     0     0     0     0     0     0     0     0     0\n",
      "     0     0     0     0     0     0     0     0     0     0     0     0\n",
      "     0     0     0     0     0     0     0     0     0     0     0     0\n",
      "     0     0     0     0     0     0     0     0     0     0     0     0\n",
      "     0     0     0     0     0     0     0     0     0     0     0     0\n",
      "     0     0     0     0     0     0     0     0     0     0     0     0\n",
      "     0     0     0     0     0     0     0     0     0     0     0     0\n",
      "     0     0     0     0     0     0     0     0     0     0     0     0\n",
      "     0     0     0     0     0     0     0     0     0     0     0     0\n",
      "     0     0     0     0     0     0     0     0     0     0     0     0\n",
      "     0     0     0     0     0     0     0     0     0     0     0     0\n",
      "     0     0     0     0     0     0     0     0     0     0     0     0\n",
      "     0     0     0     0     0     0     0     0     0     0     0     0\n",
      "     0     0     0     0     0     0     0     0     0     0     0     0]\n"
     ]
    }
   ],
   "source": [
    "print(\"Original phrase:\\n\", X_train[0])\n",
    "print()\n",
    "\n",
    "# Turn the phrases into their numerical equivalents \n",
    "X_train_seq = tokenizer.texts_to_sequences(X_train)\n",
    "X_test_seq = tokenizer.texts_to_sequences(X_test)\n",
    "print('Phrase as sequence:', X_train_seq[0])\n",
    "print()\n",
    "\n",
    "# Padding of our sequences \n",
    "X_train_processed = preprocessing.sequence.pad_sequences(X_train_seq, padding='post', maxlen=max_seq)\n",
    "X_test_processed = preprocessing.sequence.pad_sequences(X_test_seq, padding='post', maxlen=max_seq)\n",
    "print('Padded sequence:', X_train_processed[0])"
   ]
  },
  {
   "cell_type": "code",
   "execution_count": 10,
   "id": "e134d249",
   "metadata": {
    "execution": {
     "iopub.execute_input": "2021-12-11T18:39:29.549464Z",
     "iopub.status.busy": "2021-12-11T18:39:29.548832Z",
     "iopub.status.idle": "2021-12-11T18:41:08.176063Z",
     "shell.execute_reply": "2021-12-11T18:41:08.176909Z",
     "shell.execute_reply.started": "2021-12-11T14:13:05.846323Z"
    },
    "papermill": {
     "duration": 98.65788,
     "end_time": "2021-12-11T18:41:08.177230",
     "exception": false,
     "start_time": "2021-12-11T18:39:29.519350",
     "status": "completed"
    },
    "tags": []
   },
   "outputs": [
    {
     "name": "stdout",
     "output_type": "stream",
     "text": [
      "1000654 embeddings found\n"
     ]
    }
   ],
   "source": [
    "os.chdir('/kaggle/input/pretrained-word-vectors-for-spanish')\n",
    "embedding_index = {}\n",
    "with open(\"SBW-vectors-300-min5.txt\") as f:\n",
    "  for line in f:\n",
    "    word, coef = line.split(maxsplit=1)\n",
    "    coef = np.fromstring(coef, 'f', sep=' ')\n",
    "    embedding_index[word] = coef \n",
    "print('{} embeddings found'.format(len(embedding_index)))"
   ]
  },
  {
   "cell_type": "code",
   "execution_count": 11,
   "id": "b2423a4e",
   "metadata": {
    "execution": {
     "iopub.execute_input": "2021-12-11T18:41:08.292691Z",
     "iopub.status.busy": "2021-12-11T18:41:08.291528Z",
     "iopub.status.idle": "2021-12-11T18:41:08.371138Z",
     "shell.execute_reply": "2021-12-11T18:41:08.372186Z",
     "shell.execute_reply.started": "2021-12-11T14:14:38.992851Z"
    },
    "papermill": {
     "duration": 0.116186,
     "end_time": "2021-12-11T18:41:08.372481",
     "exception": false,
     "start_time": "2021-12-11T18:41:08.256295",
     "status": "completed"
    },
    "tags": []
   },
   "outputs": [
    {
     "name": "stdout",
     "output_type": "stream",
     "text": [
      "27660 words encoded with an embedding from SBW-vectors\n",
      "0 word embeddings not found\n"
     ]
    }
   ],
   "source": [
    "embedding_dim = 300\n",
    "hits = 0 \n",
    "misses = 0\n",
    "\n",
    "embedding_matrix = np.zeros((vocab_size, embedding_dim))\n",
    "for w, i in word_index.items():\n",
    "  embedding_vector = embedding_index.get(word)\n",
    "  if embedding_vector is not None:\n",
    "    hits+=1\n",
    "    embedding_matrix[i] = embedding_vector\n",
    "  else:\n",
    "    misses += 1\n",
    "\n",
    "print('{} words encoded with an embedding from SBW-vectors'.format(hits))\n",
    "print('{} word embeddings not found'.format(misses))"
   ]
  },
  {
   "cell_type": "code",
   "execution_count": 12,
   "id": "fc0df63c",
   "metadata": {
    "collapsed": true,
    "execution": {
     "iopub.execute_input": "2021-12-11T18:41:08.493579Z",
     "iopub.status.busy": "2021-12-11T18:41:08.492859Z",
     "iopub.status.idle": "2021-12-11T18:41:12.601659Z",
     "shell.execute_reply": "2021-12-11T18:41:12.600773Z",
     "shell.execute_reply.started": "2021-12-11T14:14:39.077867Z"
    },
    "papermill": {
     "duration": 4.143914,
     "end_time": "2021-12-11T18:41:12.601858",
     "exception": false,
     "start_time": "2021-12-11T18:41:08.457944",
     "status": "completed"
    },
    "tags": []
   },
   "outputs": [
    {
     "name": "stderr",
     "output_type": "stream",
     "text": [
      "2021-12-11 18:41:08.580419: I tensorflow/stream_executor/cuda/cuda_gpu_executor.cc:937] successful NUMA node read from SysFS had negative value (-1), but there must be at least one NUMA node, so returning NUMA node zero\n",
      "2021-12-11 18:41:08.708167: I tensorflow/stream_executor/cuda/cuda_gpu_executor.cc:937] successful NUMA node read from SysFS had negative value (-1), but there must be at least one NUMA node, so returning NUMA node zero\n",
      "2021-12-11 18:41:08.709366: I tensorflow/stream_executor/cuda/cuda_gpu_executor.cc:937] successful NUMA node read from SysFS had negative value (-1), but there must be at least one NUMA node, so returning NUMA node zero\n",
      "2021-12-11 18:41:08.712175: I tensorflow/core/platform/cpu_feature_guard.cc:142] This TensorFlow binary is optimized with oneAPI Deep Neural Network Library (oneDNN) to use the following CPU instructions in performance-critical operations:  AVX2 FMA\n",
      "To enable them in other operations, rebuild TensorFlow with the appropriate compiler flags.\n",
      "2021-12-11 18:41:08.713571: I tensorflow/stream_executor/cuda/cuda_gpu_executor.cc:937] successful NUMA node read from SysFS had negative value (-1), but there must be at least one NUMA node, so returning NUMA node zero\n",
      "2021-12-11 18:41:08.714731: I tensorflow/stream_executor/cuda/cuda_gpu_executor.cc:937] successful NUMA node read from SysFS had negative value (-1), but there must be at least one NUMA node, so returning NUMA node zero\n",
      "2021-12-11 18:41:08.715758: I tensorflow/stream_executor/cuda/cuda_gpu_executor.cc:937] successful NUMA node read from SysFS had negative value (-1), but there must be at least one NUMA node, so returning NUMA node zero\n",
      "2021-12-11 18:41:10.980945: I tensorflow/stream_executor/cuda/cuda_gpu_executor.cc:937] successful NUMA node read from SysFS had negative value (-1), but there must be at least one NUMA node, so returning NUMA node zero\n",
      "2021-12-11 18:41:10.982002: I tensorflow/stream_executor/cuda/cuda_gpu_executor.cc:937] successful NUMA node read from SysFS had negative value (-1), but there must be at least one NUMA node, so returning NUMA node zero\n",
      "2021-12-11 18:41:10.982961: I tensorflow/stream_executor/cuda/cuda_gpu_executor.cc:937] successful NUMA node read from SysFS had negative value (-1), but there must be at least one NUMA node, so returning NUMA node zero\n",
      "2021-12-11 18:41:10.983787: I tensorflow/core/common_runtime/gpu/gpu_device.cc:1510] Created device /job:localhost/replica:0/task:0/device:GPU:0 with 15403 MB memory:  -> device: 0, name: Tesla P100-PCIE-16GB, pci bus id: 0000:00:04.0, compute capability: 6.0\n"
     ]
    },
    {
     "name": "stdout",
     "output_type": "stream",
     "text": [
      "Model: \"sequential\"\n",
      "_________________________________________________________________\n",
      "Layer (type)                 Output Shape              Param #   \n",
      "=================================================================\n",
      "embedding (Embedding)        (None, 300, 300)          8298300   \n",
      "_________________________________________________________________\n",
      "lstm (LSTM)                  (None, 128)               219648    \n",
      "_________________________________________________________________\n",
      "dense (Dense)                (None, 1)                 129       \n",
      "=================================================================\n",
      "Total params: 8,518,077\n",
      "Trainable params: 8,518,077\n",
      "Non-trainable params: 0\n",
      "_________________________________________________________________\n"
     ]
    }
   ],
   "source": [
    "model = Sequential()\n",
    "\n",
    "model.add(\n",
    "    layers.Embedding(input_dim=vocab_size,\n",
    "                     embeddings_initializer=tf.keras.initializers.Constant(embedding_matrix),\n",
    "                     mask_zero=True,\n",
    "                     output_dim=embedding_dim, # dimension of dense embedding. \n",
    "                     input_length=max_seq)\n",
    ")\n",
    "\n",
    "model.add(layers.LSTM(128))\n",
    "\n",
    "model.add(layers.Dense(units=1, activation='sigmoid'))\n",
    "\n",
    "model.compile(\n",
    "    optimizer='adam',\n",
    "    loss='binary_crossentropy',\n",
    "    metrics=['accuracy']\n",
    ")\n",
    "\n",
    "model.summary()"
   ]
  },
  {
   "cell_type": "code",
   "execution_count": 13,
   "id": "84c9a36e",
   "metadata": {
    "collapsed": true,
    "execution": {
     "iopub.execute_input": "2021-12-11T18:41:12.715262Z",
     "iopub.status.busy": "2021-12-11T18:41:12.714442Z",
     "iopub.status.idle": "2021-12-11T18:42:37.248791Z",
     "shell.execute_reply": "2021-12-11T18:42:37.247989Z",
     "shell.execute_reply.started": "2021-12-11T14:14:43.086908Z"
    },
    "papermill": {
     "duration": 84.566524,
     "end_time": "2021-12-11T18:42:37.248947",
     "exception": false,
     "start_time": "2021-12-11T18:41:12.682423",
     "status": "completed"
    },
    "tags": []
   },
   "outputs": [
    {
     "name": "stderr",
     "output_type": "stream",
     "text": [
      "2021-12-11 18:41:12.777011: I tensorflow/compiler/mlir/mlir_graph_optimization_pass.cc:185] None of the MLIR Optimization Passes are enabled (registered 2)\n"
     ]
    },
    {
     "name": "stdout",
     "output_type": "stream",
     "text": [
      "Epoch 1/10\n"
     ]
    },
    {
     "name": "stderr",
     "output_type": "stream",
     "text": [
      "2021-12-11 18:41:17.559280: I tensorflow/stream_executor/cuda/cuda_dnn.cc:369] Loaded cuDNN version 8005\n"
     ]
    },
    {
     "name": "stdout",
     "output_type": "stream",
     "text": [
      "100/100 [==============================] - 14s 81ms/step - loss: 0.3394 - accuracy: 0.8630\n",
      "Epoch 2/10\n",
      "100/100 [==============================] - 8s 79ms/step - loss: 0.1017 - accuracy: 0.9643\n",
      "Epoch 3/10\n",
      "100/100 [==============================] - 8s 79ms/step - loss: 0.0370 - accuracy: 0.9904\n",
      "Epoch 4/10\n",
      "100/100 [==============================] - 7s 75ms/step - loss: 0.0228 - accuracy: 0.9937\n",
      "Epoch 5/10\n",
      "100/100 [==============================] - 8s 80ms/step - loss: 0.0207 - accuracy: 0.9949\n",
      "Epoch 6/10\n",
      "100/100 [==============================] - 8s 76ms/step - loss: 0.0122 - accuracy: 0.9959\n",
      "Epoch 7/10\n",
      "100/100 [==============================] - 8s 77ms/step - loss: 0.0077 - accuracy: 0.9978\n",
      "Epoch 8/10\n",
      "100/100 [==============================] - 7s 75ms/step - loss: 0.0025 - accuracy: 0.9991\n",
      "Epoch 9/10\n",
      "100/100 [==============================] - 8s 82ms/step - loss: 0.0056 - accuracy: 0.9983\n",
      "Epoch 10/10\n",
      "100/100 [==============================] - 8s 80ms/step - loss: 0.0447 - accuracy: 0.9855\n"
     ]
    }
   ],
   "source": [
    "with tf.device('/gpu:0'):\n",
    "    history = model.fit(\n",
    "    x=X_train_processed,\n",
    "    y=y_train,\n",
    "    epochs=10, \n",
    "    batch_size=128\n",
    ")"
   ]
  },
  {
   "cell_type": "code",
   "execution_count": 14,
   "id": "f09adae2",
   "metadata": {
    "_kg_hide-input": true,
    "collapsed": true,
    "execution": {
     "iopub.execute_input": "2021-12-11T18:42:37.730083Z",
     "iopub.status.busy": "2021-12-11T18:42:37.727497Z",
     "iopub.status.idle": "2021-12-11T18:42:38.217662Z",
     "shell.execute_reply": "2021-12-11T18:42:38.218471Z",
     "shell.execute_reply.started": "2021-12-11T14:15:47.918806Z"
    },
    "papermill": {
     "duration": 0.756494,
     "end_time": "2021-12-11T18:42:38.218647",
     "exception": false,
     "start_time": "2021-12-11T18:42:37.462153",
     "status": "completed"
    },
    "tags": []
   },
   "outputs": [
    {
     "data": {
      "image/png": "[encoded data removed]",
      "text/plain": [
       "<Figure size 432x288 with 1 Axes>"
      ]
     },
     "metadata": {},
     "output_type": "display_data"
    },
    {
     "data": {
      "image/png": "[encoded data removed]",
      "text/plain": [
       "<Figure size 432x288 with 1 Axes>"
      ]
     },
     "metadata": {},
     "output_type": "display_data"
    }
   ],
   "source": [
    "# Loss plot\n",
    "plt.plot(history.history['loss'])\n",
    "plt.title('model loss')\n",
    "plt.ylabel('loss')\n",
    "plt.xlabel('epoch')\n",
    "plt.show()\n",
    "\n",
    "# Accuracy plot\n",
    "plt.plot(history.history['accuracy'])\n",
    "plt.title('model accuracy')\n",
    "plt.ylabel('accuracy')\n",
    "plt.xlabel('epoch')\n",
    "plt.show()"
   ]
  },
  {
   "cell_type": "code",
   "execution_count": 15,
   "id": "1d515714",
   "metadata": {
    "collapsed": true,
    "execution": {
     "iopub.execute_input": "2021-12-11T18:42:39.068725Z",
     "iopub.status.busy": "2021-12-11T18:42:39.067576Z",
     "iopub.status.idle": "2021-12-11T18:42:40.876300Z",
     "shell.execute_reply": "2021-12-11T18:42:40.877375Z",
     "shell.execute_reply.started": "2021-12-11T14:15:48.42505Z"
    },
    "papermill": {
     "duration": 2.018557,
     "end_time": "2021-12-11T18:42:40.877680",
     "exception": false,
     "start_time": "2021-12-11T18:42:38.859123",
     "status": "completed"
    },
    "tags": []
   },
   "outputs": [
    {
     "name": "stdout",
     "output_type": "stream",
     "text": [
      "              precision    recall  f1-score   support\n",
      "\n",
      "           0       0.84      0.94      0.89       515\n",
      "           1       0.99      0.97      0.98      2665\n",
      "\n",
      "    accuracy                           0.96      3180\n",
      "   macro avg       0.91      0.95      0.93      3180\n",
      "weighted avg       0.96      0.96      0.96      3180\n",
      "\n",
      "Accuracy: 0.960691823899371\n"
     ]
    }
   ],
   "source": [
    "y_pred = model.predict(x=X_test_processed, batch_size=128)\n",
    "y_pred = [0 if y < 0.5 else 1 for y in y_pred]\n",
    "\n",
    "print(classification_report(y_test, y_pred))\n",
    "print('Accuracy:', accuracy_score(y_test, y_pred))"
   ]
  },
  {
   "cell_type": "code",
   "execution_count": 16,
   "id": "c255ec2c",
   "metadata": {
    "_kg_hide-input": true,
    "collapsed": true,
    "execution": {
     "iopub.execute_input": "2021-12-11T18:42:41.717646Z",
     "iopub.status.busy": "2021-12-11T18:42:41.716744Z",
     "iopub.status.idle": "2021-12-11T18:42:41.974775Z",
     "shell.execute_reply": "2021-12-11T18:42:41.975334Z",
     "shell.execute_reply.started": "2021-12-11T14:22:21.345423Z"
    },
    "papermill": {
     "duration": 0.473311,
     "end_time": "2021-12-11T18:42:41.975532",
     "exception": false,
     "start_time": "2021-12-11T18:42:41.502221",
     "status": "completed"
    },
    "tags": []
   },
   "outputs": [
    {
     "data": {
      "image/png": "[encoded data removed]",
      "text/plain": [
       "<Figure size 432x288 with 2 Axes>"
      ]
     },
     "metadata": {},
     "output_type": "display_data"
    }
   ],
   "source": [
    "from sklearn.metrics import confusion_matrix\n",
    "cm = confusion_matrix(y_test, y_pred, normalize='true')\n",
    "sns.heatmap(cm, annot=True, cmap=\"YlGnBu\")\n",
    "plt.ylabel('Actual')\n",
    "plt.xlabel('Predicted')\n",
    "plt.title('Confusion matrix')\n",
    "plt.show()"
   ]
  }
 ],
 "metadata": {
  "kernelspec": {
   "display_name": "Python 3 (ipykernel)",
   "language": "python",
   "name": "python3"
  },
  "language_info": {
   "codemirror_mode": {
    "name": "ipython",
    "version": 3
   },
   "file_extension": ".py",
   "mimetype": "text/x-python",
   "name": "python",
   "nbconvert_exporter": "python",
   "pygments_lexer": "ipython3",
   "version": "3.9.8"
  },
  "papermill": {
   "default_parameters": {},
   "duration": 218.790827,
   "end_time": "2021-12-11T18:42:45.427185",
   "environment_variables": {},
   "exception": null,
   "input_path": "__notebook__.ipynb",
   "output_path": "__notebook__.ipynb",
   "parameters": {},
   "start_time": "2021-12-11T18:39:06.636358",
   "version": "2.3.3"
  }
 },
 "nbformat": 4,
 "nbformat_minor": 5
}
